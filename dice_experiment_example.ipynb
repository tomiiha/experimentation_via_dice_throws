{
 "cells": [
  {
   "cell_type": "code",
   "execution_count": 88,
   "id": "8467b0ac-e735-4e6f-8677-3a478752867b",
   "metadata": {},
   "outputs": [],
   "source": [
    "import random\n",
    "import numpy as np\n",
    "import statsmodels.stats.power as smp\n",
    "import scipy.stats as stats\n",
    "\n",
    "# Establish variables\n",
    "sample_size = 30\n",
    "significance_level = 0.05 # Alpha\n",
    "rigging = 2 # 1 = light, 2 = heavy\n",
    "desired_power = 0.8 # power level target"
   ]
  },
  {
   "cell_type": "code",
   "execution_count": 89,
   "id": "3b2c5ccb-9e0f-4b87-859c-4cc038ff20c0",
   "metadata": {},
   "outputs": [],
   "source": [
    "# A function to generate x amount of dice throws for both a rigged, and fair dice.\n",
    "def throw_dice(x,rigging=1):\n",
    "    fair_dice_results = []\n",
    "    rigged_dice_results = []\n",
    "\n",
    "    # The lightly rigged dice will produce more 6 values.\n",
    "    if rigging == 1:\n",
    "        rigged_dice_numbers = [1, 2, 3, 4, 5, 6, 6]\n",
    "\n",
    "    # The heavily rigged dice will produce more 4,5,6 values.\n",
    "    elif rigging == 2:\n",
    "        rigged_dice_numbers = [1, 2, 3, 4, 4, 5, 5, 6, 6]\n",
    "        \n",
    "    else:\n",
    "        # Handling cases where rigging is not 1 or 2\n",
    "        raise ValueError(\"Invalid rigging option. Please choose 1 or 2.\")\n",
    "\n",
    "    for _ in range(x):\n",
    "        fair_dice_results.append(random.randint(1, 6))\n",
    "        rigged_dice_results.append(random.choice(rigged_dice_numbers))\n",
    "\n",
    "    return fair_dice_results, rigged_dice_results"
   ]
  },
  {
   "cell_type": "code",
   "execution_count": 90,
   "id": "d12134e2-486a-4497-a2ca-fae98b5cf7a2",
   "metadata": {},
   "outputs": [
    {
     "name": "stdout",
     "output_type": "stream",
     "text": [
      "Example Dice Rolls:\n",
      "Fair Dice Throws: [5, 2, 2, 6, 5, 4, 5, 4, 4, 4]\n",
      "Rigged Dice Throws: [3, 4, 1, 4, 4, 5, 6, 5, 6, 1]\n"
     ]
    }
   ],
   "source": [
    "# Example output\n",
    "fair_dice, rigged_dice = throw_dice(10,1)\n",
    "print('Example Dice Rolls:')\n",
    "print(f\"Fair Dice Throws: {fair_dice}\")\n",
    "print(f\"Rigged Dice Throws: {rigged_dice}\")"
   ]
  },
  {
   "cell_type": "code",
   "execution_count": 91,
   "id": "250406ed-fa09-419a-b374-96e30723613d",
   "metadata": {},
   "outputs": [],
   "source": [
    "def play_games(number_of_games=20,dice_throws=10,rigging=1,show_results=False):\n",
    "    fair_dice_wins = 0\n",
    "    rigged_dice_wins = 0\n",
    "    ties = 0\n",
    "\n",
    "    for _ in range(number_of_games):\n",
    "        fair_dice, rigged_dice = throw_dice(dice_throws,rigging)\n",
    "\n",
    "        if sum(fair_dice) > sum(rigged_dice):\n",
    "            fair_dice_wins += 1\n",
    "        elif sum(fair_dice) < sum(rigged_dice):\n",
    "            rigged_dice_wins += 1\n",
    "        else:\n",
    "            ties += 1\n",
    "            \n",
    "    if show_results:\n",
    "        # Displaying the results\n",
    "        print(f\"Games Played: {dice_throws}\")\n",
    "        print(f\"Fair Dice Wins: {fair_dice_wins}\")\n",
    "        print(f\"Rigged Dice Wins: {rigged_dice_wins}\")\n",
    "        print(f\"Ties: {ties}\")\n",
    "\n",
    "    return fair_dice, rigged_dice"
   ]
  },
  {
   "cell_type": "code",
   "execution_count": 92,
   "id": "e5fb39bc-62a5-46e5-afb2-316d808273e6",
   "metadata": {},
   "outputs": [],
   "source": [
    "def analyze_dice_rolls(sample_size, dice_throws, rigging, significance_level=0.05, desired_power=0.8,show_results=False):\n",
    "\n",
    "    # Play the games\n",
    "    fair_dice, rigged_dice = play_games(sample_size, dice_throws, rigging)\n",
    "\n",
    "    # Calculate the means\n",
    "    mean_fair = np.mean(fair_dice)\n",
    "    mean_rigged = np.mean(rigged_dice)\n",
    "\n",
    "    # Calculate the pooled standard deviation\n",
    "    std_dev = np.sqrt((np.std(fair_dice, ddof=1) ** 2 + np.std(rigged_dice, ddof=1) ** 2) / 2)\n",
    "\n",
    "    # Conduct Levene's test for equality of variances\n",
    "    levene_stat, levene_p = stats.levene(fair_dice, rigged_dice)\n",
    "\n",
    "    # Calculate Cohen's d\n",
    "    cohens_d = (mean_fair - mean_rigged) / std_dev\n",
    "\n",
    "    # Calculate individual standard deviations\n",
    "    std_dev_fair = np.std(fair_dice, ddof=1)\n",
    "    std_dev_rigged = np.std(rigged_dice, ddof=1)\n",
    "\n",
    "    # Calculate Cohen's d for independent standard deviations\n",
    "    cohens_d_independent = (mean_fair - mean_rigged) / max(std_dev_fair, std_dev_rigged)\n",
    "\n",
    "    # Perform power analysis\n",
    "    power_analysis = smp.TTestIndPower()\n",
    "    power = power_analysis.solve_power(effect_size=cohens_d, nobs1=sample_size, \n",
    "                                   alpha=significance_level, ratio=1, \n",
    "                                   alternative='two-sided')\n",
    "\n",
    "    # Calculate sample sizes\n",
    "    sample_size_pooled = power_analysis.solve_power(effect_size=cohens_d, alpha=significance_level, \n",
    "                                                    power=desired_power, ratio=1, \n",
    "                                                    alternative='two-sided')\n",
    "    sample_size_independent = power_analysis.solve_power(effect_size=cohens_d_independent, alpha=significance_level, \n",
    "                                                         power=desired_power, ratio=1, \n",
    "                                                         alternative='two-sided')\n",
    "    sample_size_pooled = int(sample_size_pooled)\n",
    "    sample_size_independent = int(sample_size_independent)\n",
    "\n",
    "    # Determine which test to use\n",
    "    test_type = 2 if levene_p < significance_level else 1  # 2 for Welch’s t-test, 1 for standard t-test\n",
    "\n",
    "    if show_results:\n",
    "        print('---------------------------------')\n",
    "        print(f\"Mean Fair Throws: {round(mean_fair,1)}\")\n",
    "        print(f\"Mean Rigged Throws: {round(mean_rigged,1)}\")\n",
    "        print(f\"Pooled Standard Deviation: {round(std_dev,3)}\")\n",
    "        print('---------------------------------')\n",
    "        print(f\"Levene's Test Statistic: {levene_stat}\")\n",
    "        print(f\"Levene's Test P-Value: {levene_p}\")\n",
    "        print('---------------------------------')\n",
    "        print(f\"Cohen's d: {round(cohens_d,3)}\")\n",
    "        print(f\"Power (%): {round(power*100,1)}\")\n",
    "        print('---------------------------------')\n",
    "        print(f\"Sample Size (Pooled): {round(sample_size_pooled,0)}\")\n",
    "        print(f\"Sample Size (Independent): {round(sample_size_independent,0)}\")\n",
    "        print('---------------------------------')\n",
    "\n",
    "    # Return relevant statistics and test type\n",
    "    return {\n",
    "        \"sample_size_pooled\": sample_size_pooled,\n",
    "        \"sample_size_independent\": sample_size_independent,\n",
    "        \"test_type\": test_type\n",
    "    }"
   ]
  },
  {
   "cell_type": "code",
   "execution_count": 93,
   "id": "75da01cb-5bab-40e3-b7d0-87b32ec86610",
   "metadata": {},
   "outputs": [],
   "source": [
    "def perform_t_test(fair_dice_results, rigged_dice_results, test_type):\n",
    "    # Choose the appropriate t-test based on the test_type\n",
    "    if test_type == 1:  # Standard t-test\n",
    "        t_statistic, p_value = stats.ttest_ind(fair_dice_results, rigged_dice_results, equal_var=True)\n",
    "        test_name = \"Standard t-test\"\n",
    "    elif test_type == 2:  # Welch’s t-test\n",
    "        t_statistic, p_value = stats.ttest_ind(fair_dice_results, rigged_dice_results, equal_var=False)\n",
    "        test_name = \"Welch’s t-test\"\n",
    "    else:\n",
    "        raise ValueError(\"Invalid test type. Choose 1 for Standard t-test or 2 for Welch’s t-test.\")\n",
    "\n",
    "    # Output the t-test results\n",
    "    print(f\"{test_name} Results:\")\n",
    "    print(f\"T Statistic: {t_statistic}\")\n",
    "    print(f\"P-Value: {p_value}\")"
   ]
  },
  {
   "cell_type": "code",
   "execution_count": 94,
   "id": "a15d944d-d051-4ee0-af52-badc2c709f66",
   "metadata": {},
   "outputs": [
    {
     "name": "stdout",
     "output_type": "stream",
     "text": [
      "---------------------------------\n",
      "Mean Fair Throws: 4.2\n",
      "Mean Rigged Throws: 4.1\n",
      "Pooled Standard Deviation: 1.74\n",
      "---------------------------------\n",
      "Levene's Test Statistic: 0.6230769230769233\n",
      "Levene's Test P-Value: 0.44018064295787673\n",
      "---------------------------------\n",
      "Cohen's d: 0.057\n",
      "Power (%): 5.6\n",
      "---------------------------------\n",
      "Sample Size (Pooled): 4753\n",
      "Sample Size (Independent): 5512\n",
      "---------------------------------\n"
     ]
    }
   ],
   "source": [
    "# Capture results of initial sample\n",
    "results = analyze_dice_rolls(sample_size=sample_size, dice_throws=10, rigging=rigging, show_results=True)\n",
    "\n",
    "# Run dice set off of sample sizes\n",
    "if results['test_type'] == 1:\n",
    "    final_sample = results['sample_size_pooled']\n",
    "else:\n",
    "    final_sample = results['sample_size_independent']\n",
    "    \n",
    "fair_dice_full, rigged_dice_full = play_games(number_of_games=final_sample, dice_throws=10, rigging=rigging, show_results=False)"
   ]
  },
  {
   "cell_type": "code",
   "execution_count": 95,
   "id": "71cfe291-5be9-4936-b955-7fc7f924cef0",
   "metadata": {},
   "outputs": [
    {
     "name": "stdout",
     "output_type": "stream",
     "text": [
      "Standard t-test Results:\n",
      "T Statistic: -0.4656903154237996\n",
      "P-Value: 0.6470224911161582\n"
     ]
    }
   ],
   "source": [
    "# Run test on final dice sets on the appropriate test\n",
    "perform_t_test(fair_dice_full, rigged_dice_full, results['test_type'])"
   ]
  },
  {
   "cell_type": "code",
   "execution_count": null,
   "id": "3bfa383f-2be7-4bb9-b332-f6c6ecdf0e1c",
   "metadata": {},
   "outputs": [],
   "source": []
  }
 ],
 "metadata": {
  "kernelspec": {
   "display_name": "Python 3 (ipykernel)",
   "language": "python",
   "name": "python3"
  },
  "language_info": {
   "codemirror_mode": {
    "name": "ipython",
    "version": 3
   },
   "file_extension": ".py",
   "mimetype": "text/x-python",
   "name": "python",
   "nbconvert_exporter": "python",
   "pygments_lexer": "ipython3",
   "version": "3.11.7"
  }
 },
 "nbformat": 4,
 "nbformat_minor": 5
}
